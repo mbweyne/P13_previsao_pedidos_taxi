{
 "cells": [
  {
   "cell_type": "code",
   "execution_count": null,
   "id": "62f25ec9",
   "metadata": {},
   "outputs": [],
   "source": [
    "# Projeto 13 – Previsão de Pedidos de Táxi por Hora com Séries Temporais"
   ]
  },
  {
   "cell_type": "code",
   "execution_count": null,
   "id": "f44dd2fd",
   "metadata": {},
   "outputs": [],
   "source": [
    "# 1. Bibliotecas\n",
    "import pandas as pd\n",
    "import numpy as np\n",
    "import matplotlib.pyplot as plt\n",
    "import seaborn as sns\n",
    "from sklearn.linear_model import LinearRegression\n",
    "from sklearn.ensemble import RandomForestRegressor\n",
    "from sklearn.metrics import mean_squared_error\n",
    "from sklearn.model_selection import train_test_split"
   ]
  },
  {
   "cell_type": "code",
   "execution_count": null,
   "id": "e52c5de4",
   "metadata": {},
   "outputs": [],
   "source": [
    "# 2. Carregar os dados\n",
    "df = pd.read_csv('/mnt/data/taxi.csv', parse_dates=['datetime'], index_col='datetime')"
   ]
  },
  {
   "cell_type": "code",
   "execution_count": null,
   "id": "df71f417",
   "metadata": {},
   "outputs": [],
   "source": [
    "# 3. Reamostragem para 1 hora\n",
    "df = df.resample('1H').sum()"
   ]
  },
  {
   "cell_type": "code",
   "execution_count": null,
   "id": "07a8e5e4",
   "metadata": {},
   "outputs": [],
   "source": [
    "# 4. Análise Exploratória\n",
    "plt.figure(figsize=(12, 4))\n",
    "df['num_orders'].plot(title='Pedidos de Táxi por Hora')\n",
    "plt.ylabel('nº Pedidos')\n",
    "plt.grid()\n",
    "plt.show()"
   ]
  },
  {
   "cell_type": "code",
   "execution_count": null,
   "id": "edc95aed",
   "metadata": {},
   "outputs": [],
   "source": [
    "# 5. Engenharia de Atributos\n",
    "def make_features(data, max_lag, rolling_mean_size):\n",
    "    data['hour'] = data.index.hour\n",
    "    data['dayofweek'] = data.index.dayofweek\n",
    "    for lag in range(1, max_lag + 1):\n",
    "        data[f'lag_{lag}'] = data['num_orders'].shift(lag)\n",
    "    data['rolling_mean'] = data['num_orders'].shift().rolling(rolling_mean_size).mean()\n",
    "    return data"
   ]
  },
  {
   "cell_type": "code",
   "execution_count": null,
   "id": "f418804a",
   "metadata": {},
   "outputs": [],
   "source": [
    "make_features(df, max_lag=6, rolling_mean_size=3)\n",
    "df = df.dropna()"
   ]
  },
  {
   "cell_type": "code",
   "execution_count": null,
   "id": "e0eed897",
   "metadata": {},
   "outputs": [],
   "source": [
    "# 6. Separar dados\n",
    "features = df.drop('num_orders', axis=1)\n",
    "target = df['num_orders']\n",
    "X_train_val, X_test, y_train_val, y_test = train_test_split(features, target, test_size=0.1, shuffle=False)\n",
    "X_train, X_valid, y_train, y_valid = train_test_split(X_train_val, y_train_val, test_size=0.2, shuffle=False)"
   ]
  },
  {
   "cell_type": "code",
   "execution_count": null,
   "id": "f4aaac8f",
   "metadata": {},
   "outputs": [],
   "source": [
    "# 7. Modelos\n",
    "## Regressão Linear\n",
    "lr = LinearRegression()\n",
    "lr.fit(X_train, y_train)\n",
    "val_preds_lr = lr.predict(X_valid)\n",
    "rmse_lr = np.sqrt(mean_squared_error(y_valid, val_preds_lr))\n",
    "print(f\"Regressão Linear - RMSE validação: {rmse_lr:.2f}\")"
   ]
  },
  {
   "cell_type": "code",
   "execution_count": null,
   "id": "3cf16874",
   "metadata": {},
   "outputs": [],
   "source": [
    "## Random Forest\n",
    "rf = RandomForestRegressor(n_estimators=100, random_state=42)\n",
    "rf.fit(X_train, y_train)\n",
    "val_preds_rf = rf.predict(X_valid)\n",
    "rmse_rf = np.sqrt(mean_squared_error(y_valid, val_preds_rf))\n",
    "print(f\"Random Forest - RMSE validação: {rmse_rf:.2f}\")"
   ]
  },
  {
   "cell_type": "code",
   "execution_count": null,
   "id": "df7ebfca",
   "metadata": {},
   "outputs": [],
   "source": [
    "# 8. Avaliação Final com Teste\n",
    "final_model = rf if rmse_rf < rmse_lr else lr\n",
    "test_preds = final_model.predict(X_test)\n",
    "rmse_test = np.sqrt(mean_squared_error(y_test, test_preds))\n",
    "print(f\"\\nMelhor modelo: {type(final_model).__name__}\")\n",
    "print(f\"RMSE no conjunto de teste: {rmse_test:.2f}\")"
   ]
  },
  {
   "cell_type": "code",
   "execution_count": null,
   "id": "7c231518",
   "metadata": {},
   "outputs": [],
   "source": [
    "# 9. Conclusão\n",
    "if rmse_test <= 48:\n",
    "    print(\"\\nMeta alcançada: RMSE ≤ 48 ✅\")\n",
    "else:\n",
    "    print(\"\\nMeta não alcançada: RMSE > 48 ❌\")\n"
   ]
  }
 ],
 "metadata": {},
 "nbformat": 4,
 "nbformat_minor": 5
}
